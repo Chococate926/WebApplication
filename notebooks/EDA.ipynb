{
 "cells": [
  {
   "cell_type": "code",
   "execution_count": 1,
   "id": "f6e6f37b",
   "metadata": {},
   "outputs": [],
   "source": [
    "import streamlit as st\n",
    "import pandas as pd \n",
    "import plotly.express as px"
   ]
  },
  {
   "cell_type": "code",
   "execution_count": null,
   "id": "ebe21806",
   "metadata": {},
   "outputs": [],
   "source": [
    "def load_data():\n",
    "    data = pd.read_csv('../vehicles.csv')\n",
    "    data['marca'] = data['model'].str.split().str[0]\n",
    "    data['is_4wd'] = data['is_4wd'].fillna(0.0)\n",
    "    data['paint_color'] = data['paint_color'].fillna('unknown')\n",
    "    data['prob_cylinders'] = data['cylinders'].fillna(data.groupby('model')['cylinders'].transform(lambda x: x.mode()[0]))\n",
    "    data['date_posted'] = pd.to_datetime(data['date_posted'])\n",
    "    return data\n",
    "\n",
    "df = load_data()"
   ]
  },
  {
   "cell_type": "code",
   "execution_count": 4,
   "id": "7241ab12",
   "metadata": {},
   "outputs": [
    {
     "name": "stdout",
     "output_type": "stream",
     "text": [
      "<class 'pandas.core.frame.DataFrame'>\n",
      "RangeIndex: 51525 entries, 0 to 51524\n",
      "Data columns (total 15 columns):\n",
      " #   Column          Non-Null Count  Dtype         \n",
      "---  ------          --------------  -----         \n",
      " 0   price           51525 non-null  int64         \n",
      " 1   model_year      47906 non-null  float64       \n",
      " 2   model           51525 non-null  object        \n",
      " 3   condition       51525 non-null  object        \n",
      " 4   cylinders       46265 non-null  float64       \n",
      " 5   fuel            51525 non-null  object        \n",
      " 6   odometer        43633 non-null  float64       \n",
      " 7   transmission    51525 non-null  object        \n",
      " 8   type            51525 non-null  object        \n",
      " 9   paint_color     51525 non-null  object        \n",
      " 10  is_4wd          51525 non-null  float64       \n",
      " 11  date_posted     51525 non-null  datetime64[ns]\n",
      " 12  days_listed     51525 non-null  int64         \n",
      " 13  marca           51525 non-null  object        \n",
      " 14  prob_cylinders  51525 non-null  float64       \n",
      "dtypes: datetime64[ns](1), float64(5), int64(2), object(7)\n",
      "memory usage: 5.9+ MB\n"
     ]
    }
   ],
   "source": [
    "df.head()\n",
    "\n",
    "df.info()"
   ]
  },
  {
   "cell_type": "code",
   "execution_count": null,
   "id": "b83e52e9",
   "metadata": {},
   "outputs": [],
   "source": [
    "df.isna().sum().sort_values(ascending=False)"
   ]
  },
  {
   "cell_type": "code",
   "execution_count": null,
   "id": "3908f8bd",
   "metadata": {},
   "outputs": [],
   "source": [
    "#Provavelmente os valores ausentes são os q não tem tração de roda\n",
    "df['is_4wd'].value_counts()"
   ]
  },
  {
   "cell_type": "code",
   "execution_count": null,
   "id": "b2b01390",
   "metadata": {},
   "outputs": [],
   "source": [
    "df['is_4wd'] = df['is_4wd'].fillna(0.0)\n"
   ]
  },
  {
   "cell_type": "code",
   "execution_count": null,
   "id": "cf93a3aa",
   "metadata": {},
   "outputs": [],
   "source": [
    "df['paint_color'] = df['paint_color'].fillna('unknown')\n"
   ]
  },
  {
   "cell_type": "code",
   "execution_count": null,
   "id": "7bfe0418",
   "metadata": {},
   "outputs": [],
   "source": [
    "df.groupby('model')['cylinders'].apply(lambda x: x.mode()[0])"
   ]
  },
  {
   "cell_type": "code",
   "execution_count": null,
   "id": "12330403",
   "metadata": {},
   "outputs": [],
   "source": [
    "df.groupby('model')['cylinders'].transform(lambda x: x.mode()[0])"
   ]
  },
  {
   "cell_type": "code",
   "execution_count": null,
   "id": "15ab785b",
   "metadata": {},
   "outputs": [],
   "source": [
    "df['prob_cylinders'] = df['cylinders'].fillna(df.groupby('model')['cylinders'].transform(lambda x: x.mode()[0]))"
   ]
  },
  {
   "cell_type": "code",
   "execution_count": null,
   "id": "6935caa9",
   "metadata": {},
   "outputs": [],
   "source": [
    "df[df['model_year'].isna()]"
   ]
  },
  {
   "cell_type": "code",
   "execution_count": null,
   "id": "0ec9f416",
   "metadata": {},
   "outputs": [],
   "source": [
    "df['model_year'] = df['model_year'].fillna(-1) \n",
    "\n",
    "df.isna().sum()"
   ]
  }
 ],
 "metadata": {
  "kernelspec": {
   "display_name": "Python 3",
   "language": "python",
   "name": "python3"
  },
  "language_info": {
   "codemirror_mode": {
    "name": "ipython",
    "version": 3
   },
   "file_extension": ".py",
   "mimetype": "text/x-python",
   "name": "python",
   "nbconvert_exporter": "python",
   "pygments_lexer": "ipython3",
   "version": "3.12.4"
  }
 },
 "nbformat": 4,
 "nbformat_minor": 5
}
